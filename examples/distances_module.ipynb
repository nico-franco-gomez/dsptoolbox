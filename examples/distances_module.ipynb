{
 "cells": [
  {
   "attachments": {},
   "cell_type": "markdown",
   "metadata": {},
   "source": [
    "# `distances`\n",
    "\n",
    "In the `distances` module, some distance measures between signals are available.\n",
    "\n",
    "Frequency-domain measures:\n",
    "- Log spectral\n",
    "- Itakura-Saito\n",
    "\n",
    "Time-domain:\n",
    "- SNR\n",
    "- SI-SDR\n",
    "\n",
    "Mixed:\n",
    "- fw-SNR-seg"
   ]
  },
  {
   "cell_type": "code",
   "execution_count": 2,
   "metadata": {},
   "outputs": [],
   "source": [
    "import dsptoolbox as dsp\n",
    "from os.path import join"
   ]
  },
  {
   "cell_type": "code",
   "execution_count": 22,
   "metadata": {},
   "outputs": [],
   "source": [
    "# Get a signal\n",
    "s1 = dsp.Signal(join('data', 'speech.flac'))\n",
    "\n",
    "# Get a \"distorted\" signal – here convolved with a RIR\n",
    "rir = dsp.Signal(join('data', 'rir.wav'), signal_type='rir')\n",
    "s2 = dsp.Signal(join('data', 'speech.flac'))\n",
    "s2 = dsp.room_acoustics.convolve_rir_on_signal(s2, rir)"
   ]
  },
  {
   "cell_type": "code",
   "execution_count": 23,
   "metadata": {},
   "outputs": [
    {
     "name": "stdout",
     "output_type": "stream",
     "text": [
      "Log Spectral distance:  [69.74449914]\n"
     ]
    }
   ],
   "source": [
    "ls = dsp.distances.log_spectral(\n",
    "    s1, s2,\n",
    "    method='welch',              # Method for spectrum\n",
    "    f_range_hz=[500, 1000],      # Range for computation\n",
    "    energy_normalization=True,   # For scale-invariance\n",
    "    spectrum_parameters=None     # Extra parameters for spectrum\n",
    "    )\n",
    "print('Log Spectral distance: ', ls)"
   ]
  },
  {
   "cell_type": "code",
   "execution_count": 24,
   "metadata": {},
   "outputs": [
    {
     "name": "stdout",
     "output_type": "stream",
     "text": [
      "Itakura-Saito:  [243.99854896]\n",
      "Itakura-Saito:  [43.86396317]\n"
     ]
    }
   ],
   "source": [
    "ism = dsp.distances.itakura_saito(\n",
    "    s1, s2,\n",
    "    method='welch',              # Method for spectrum\n",
    "    f_range_hz=[500, 1000],      # Range for computation\n",
    "    energy_normalization=True,   # For scale-invariance\n",
    "    spectrum_parameters=None     # Extra parameters for spectrum\n",
    "    )\n",
    "print('Itakura-Saito: ', ism)\n",
    "\n",
    "ism = dsp.distances.itakura_saito(\n",
    "    s2, s1,\n",
    "    method='welch',              # Method for spectrum\n",
    "    f_range_hz=[500, 1000],      # Range for computation\n",
    "    energy_normalization=True,   # For scale-invariance\n",
    "    spectrum_parameters=None     # Extra parameters for spectrum\n",
    "    )\n",
    "print('Itakura-Saito: ', ism)\n",
    "\n",
    "# NOTE: this measure is by definiton not symmetric"
   ]
  },
  {
   "cell_type": "code",
   "execution_count": 25,
   "metadata": {},
   "outputs": [
    {
     "name": "stdout",
     "output_type": "stream",
     "text": [
      "SNR:  [-0.94702424]\n"
     ]
    }
   ],
   "source": [
    "snr = dsp.distances.snr(s2, s1)\n",
    "print('SNR: ', snr)"
   ]
  },
  {
   "cell_type": "code",
   "execution_count": 26,
   "metadata": {},
   "outputs": [
    {
     "name": "stdout",
     "output_type": "stream",
     "text": [
      "SDR:  [-27.54546397]\n"
     ]
    }
   ],
   "source": [
    "sdr = dsp.distances.si_sdr(s1, s2)\n",
    "print('SDR: ', sdr)"
   ]
  },
  {
   "cell_type": "code",
   "execution_count": 27,
   "metadata": {},
   "outputs": [
    {
     "name": "stdout",
     "output_type": "stream",
     "text": [
      "fw-SNR-seg:  [4.5838573]\n"
     ]
    }
   ],
   "source": [
    "fw = dsp.distances.fw_snr_seg(s1, s2, f_range_hz=[500, 1000])\n",
    "print('fw-SNR-seg: ', fw)"
   ]
  }
 ],
 "metadata": {
  "kernelspec": {
   "display_name": "dsp-dev11",
   "language": "python",
   "name": "python3"
  },
  "language_info": {
   "codemirror_mode": {
    "name": "ipython",
    "version": 3
   },
   "file_extension": ".py",
   "mimetype": "text/x-python",
   "name": "python",
   "nbconvert_exporter": "python",
   "pygments_lexer": "ipython3",
   "version": "3.11.0"
  },
  "orig_nbformat": 4
 },
 "nbformat": 4,
 "nbformat_minor": 2
}
